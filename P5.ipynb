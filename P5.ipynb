{
 "cells": [
  {
   "cell_type": "code",
   "execution_count": 1,
   "id": "8d08e080",
   "metadata": {},
   "outputs": [
    {
     "name": "stdout",
     "output_type": "stream",
     "text": [
      "Requirement already satisfied: torch in c:\\users\\admin\\appdata\\local\\programs\\python\\python310\\lib\\site-packages (2.1.0)\n",
      "Requirement already satisfied: filelock in c:\\users\\admin\\appdata\\local\\programs\\python\\python310\\lib\\site-packages (from torch) (3.13.1)\n",
      "Requirement already satisfied: typing-extensions in c:\\users\\admin\\appdata\\local\\programs\\python\\python310\\lib\\site-packages (from torch) (4.4.0)\n",
      "Requirement already satisfied: sympy in c:\\users\\admin\\appdata\\local\\programs\\python\\python310\\lib\\site-packages (from torch) (1.12)\n",
      "Requirement already satisfied: networkx in c:\\users\\admin\\appdata\\local\\programs\\python\\python310\\lib\\site-packages (from torch) (3.2.1)\n",
      "Requirement already satisfied: jinja2 in c:\\users\\admin\\appdata\\local\\programs\\python\\python310\\lib\\site-packages (from torch) (3.1.2)\n",
      "Requirement already satisfied: fsspec in c:\\users\\admin\\appdata\\local\\programs\\python\\python310\\lib\\site-packages (from torch) (2023.10.0)\n",
      "Requirement already satisfied: MarkupSafe>=2.0 in c:\\users\\admin\\appdata\\local\\programs\\python\\python310\\lib\\site-packages (from jinja2->torch) (2.1.1)\n",
      "Requirement already satisfied: mpmath>=0.19 in c:\\users\\admin\\appdata\\local\\programs\\python\\python310\\lib\\site-packages (from sympy->torch) (1.3.0)\n",
      "Note: you may need to restart the kernel to use updated packages.\n"
     ]
    },
    {
     "name": "stderr",
     "output_type": "stream",
     "text": [
      "DEPRECATION: jupyter-server 2.0.0 has a non-standard dependency specifier jupyter-core!=~5.0,>=4.12. pip 24.0 will enforce this behaviour change. A possible replacement is to upgrade to a newer version of jupyter-server or contact the author to suggest that they release a version with a conforming dependency specifiers. Discussion can be found at https://github.com/pypa/pip/issues/12063\n"
     ]
    }
   ],
   "source": [
    "pip install torch"
   ]
  },
  {
   "cell_type": "code",
   "execution_count": 1,
   "id": "e63a2789",
   "metadata": {},
   "outputs": [],
   "source": [
    "import tensorflow as tf\n",
    "import torch\n",
    "import numpy as np\n",
    "import torch.nn as nn\n",
    "import torch.nn.functional as F\n",
    "import torch.optim as optim\n",
    "from torch.autograd import Variable"
   ]
  },
  {
   "cell_type": "code",
   "execution_count": 2,
   "id": "6787484d",
   "metadata": {},
   "outputs": [
    {
     "data": {
      "text/plain": [
       "<torch._C.Generator at 0x276334f83d0>"
      ]
     },
     "execution_count": 2,
     "metadata": {},
     "output_type": "execute_result"
    }
   ],
   "source": [
    "torch.manual_seed(1)"
   ]
  },
  {
   "cell_type": "code",
   "execution_count": 3,
   "id": "848d60dc",
   "metadata": {},
   "outputs": [],
   "source": [
    "# Implementing CBOW model for the exercise given by a tutorial in pytorch.org/tutorials/beginner/nlp/word_embeddings_tutorial.html\n",
    "context_size = 2  # {w_i-2 ... w_i ... w_i+2}\n",
    "embedding_dim = 10"
   ]
  },
  {
   "cell_type": "code",
   "execution_count": 4,
   "id": "f9009a08",
   "metadata": {},
   "outputs": [],
   "source": [
    "raw_text = \"\"\"We are about to study the idea of a computational process.\n",
    "Computational processes are abstract beings that inhabit computers.\n",
    "As they evolve, processes manipulate other abstract things called data.\n",
    "The evolution of a process is directed by a pattern of rules\n",
    "called a program. People create programs to direct processes. In effect,\n",
    "we conjure the spirits of the computer with our spells.\"\"\".split()\n"
   ]
  },
  {
   "cell_type": "code",
   "execution_count": 5,
   "id": "6bc704b3",
   "metadata": {},
   "outputs": [],
   "source": [
    "def make_context_vector(context, word_to_idx):\n",
    "    idxs = [word_to_idx[w] for w in context]\n",
    "    return torch.tensor(idxs, dtype=torch.long)\n",
    "\n",
    "vocab = set(raw_text)\n",
    "vocab_size = len(vocab)\n",
    "word_to_idx = {word: i for i, word in enumerate(vocab)}\n",
    "idx_to_word = {i: word for i, word in enumerate(vocab)}\n",
    "\n",
    "data = []\n"
   ]
  },
  {
   "cell_type": "code",
   "execution_count": 6,
   "id": "2d787834",
   "metadata": {},
   "outputs": [],
   "source": [
    "for i in range(2, len(raw_text) - 2):\n",
    "    context = [raw_text[i-2], raw_text[i-1],\n",
    "               raw_text[i+1], raw_text[i+2]]\n",
    "    target = raw_text[i]\n",
    "    data.append((context, target))\n"
   ]
  },
  {
   "cell_type": "code",
   "execution_count": 7,
   "id": "a0a53b19",
   "metadata": {},
   "outputs": [],
   "source": [
    "class CBOW(nn.Module):\n",
    "    \n",
    "    def __init__(self, vocab_size, embedding_dim):\n",
    "        super(CBOW, self).__init__()\n",
    "        self.embeddings = nn.Embedding(vocab_size, embedding_dim)\n",
    "        self.proj = nn.Linear(embedding_dim, 128)\n",
    "        self.output = nn.Linear(128, vocab_size)\n",
    "        \n",
    "    def forward(self, inputs):\n",
    "        embeds = sum(self.embeddings(inputs)).view(1, -1)\n",
    "        out = F.relu(self.proj(embeds))\n",
    "        out = self.output(out)\n",
    "        nll_prob = F.log_softmax(out, dim=-1)\n",
    "        return nll_prob\n"
   ]
  },
  {
   "cell_type": "code",
   "execution_count": 8,
   "id": "1685f2f8",
   "metadata": {},
   "outputs": [],
   "source": [
    "model = CBOW(vocab_size, embedding_dim)\n",
    "optimizer = optim.SGD(model.parameters(), lr=0.001)\n",
    "losses = []\n",
    "loss_function = nn.NLLLoss()"
   ]
  },
  {
   "cell_type": "code",
   "execution_count": 9,
   "id": "4cb8c419",
   "metadata": {},
   "outputs": [
    {
     "name": "stdout",
     "output_type": "stream",
     "text": [
      "[239.6652946472168, 234.54632878303528, 229.6411373615265, 224.9347264766693, 220.41772770881653, 216.08088946342468, 211.91495537757874, 207.91273832321167, 204.0630340576172, 200.35830783843994, 196.78840339183807, 193.34669864177704, 190.02271473407745, 186.80784857273102, 183.69445252418518, 180.67438316345215, 177.73886942863464, 174.88250494003296, 172.09957695007324, 169.3826471567154, 166.72495329380035, 164.12362611293793, 161.57426297664642, 159.07367157936096, 156.61933022737503, 154.2070912718773, 151.83610290288925, 149.50277471542358, 147.20486271381378, 144.94336569309235, 142.71611845493317, 140.5222275853157, 138.35894763469696, 136.22854536771774, 134.12878745794296, 132.05810642242432, 130.01956993341446, 128.00715965032578, 126.02572816610336, 124.0705561041832, 122.14357197284698, 120.24240964651108, 118.37052285671234, 116.52590346336365, 114.70748099684715, 112.91517791152, 111.14819213747978, 109.40512651205063, 107.6880858540535, 105.99504125118256, 104.32439449429512, 102.67880973219872, 101.05597445368767, 99.4571622312069, 97.87950679659843, 96.3245512843132, 94.79538324475288, 93.28810396790504, 91.8026565015316, 90.34162321686745, 88.89963561296463, 87.481072306633, 86.08275216817856, 84.70610338449478, 83.35282921791077, 82.01848068833351, 80.70632535219193, 79.41515320539474, 78.1461406648159, 76.89544543623924, 75.66543129086494, 74.4564098417759, 73.26592606306076, 72.09620033204556, 70.94544887542725, 69.81114982068539, 68.69966593384743, 67.6045333147049, 66.52864949405193, 65.47190468013287, 64.43335063755512, 63.41359181702137, 62.41105097532272, 61.42679439485073, 60.46115644276142, 59.50993523001671, 58.57761387526989, 57.66200126707554, 56.76133373379707, 55.877668991684914, 55.009721368551254, 54.157893761992455, 53.32181189954281, 52.49961522221565, 51.69438287615776, 50.90248763561249, 50.1258724629879, 49.363362446427345, 48.615217477083206, 47.8828489780426]\n"
     ]
    }
   ],
   "source": [
    "for epoch in range(100):\n",
    "    total_loss = 0\n",
    "    for context, target in data:\n",
    "        context_vector = make_context_vector(context, word_to_idx)\n",
    "        \n",
    "        # Remember PyTorch accumulates gradients; zero them out\n",
    "        model.zero_grad()\n",
    "        \n",
    "        nll_prob = model(context_vector)\n",
    "        loss = loss_function(nll_prob, Variable(torch.tensor([word_to_idx[target]])))\n",
    "\n",
    "        # backpropagation\n",
    "        loss.backward()\n",
    "        # update the parameters\n",
    "        optimizer.step()\n",
    "        total_loss += loss.item()\n",
    "    losses.append(total_loss)\n",
    "    \n",
    "print(losses)"
   ]
  },
  {
   "cell_type": "code",
   "execution_count": 10,
   "id": "428a5457",
   "metadata": {},
   "outputs": [
    {
     "name": "stdout",
     "output_type": "stream",
     "text": [
      "*************************************************************************\n",
      "Raw text: We are about to study the idea of a computational process. Computational processes are abstract beings that inhabit computers. As they evolve, processes manipulate other abstract things called data. The evolution of a process is directed by a pattern of rules called a program. People create programs to direct processes. In effect, we conjure the spirits of the computer with our spells.\n",
      "\n",
      "Test Context: ['process.', 'Computational', 'are', 'abstract']\n",
      "\n",
      "Prediction: processes\n"
     ]
    }
   ],
   "source": [
    "# Let's see if our CBOW model works or not\n",
    "print(\"*************************************************************************\")\n",
    "context = ['process.','Computational','are', 'abstract']\n",
    "context_vector = make_context_vector(context, word_to_idx)\n",
    "a = model(context_vector).data.numpy()\n",
    "print('Raw text: {}\\n'.format(' '.join(raw_text)))\n",
    "print('Test Context: {}\\n'.format(context))\n",
    "max_idx = np.argmax(a)\n",
    "print('Prediction: {}'.format(idx_to_word[max_idx]))"
   ]
  },
  {
   "cell_type": "code",
   "execution_count": 11,
   "id": "7030caeb",
   "metadata": {},
   "outputs": [
    {
     "name": "stdout",
     "output_type": "stream",
     "text": [
      "Raw text: We are about to study the idea of a computational process. Computational processes are abstract beings that inhabit computers. As they evolve, processes manipulate other abstract things called data. The evolution of a process is directed by a pattern of rules called a program. People create programs to direct processes. In effect, we conjure the spirits of the computer with our spells.\n",
      "\n",
      "Test Context: ['processes', 'manipulate', 'abstract', 'things']\n",
      "\n",
      "Prediction: other\n"
     ]
    }
   ],
   "source": [
    "context = ['processes','manipulate','abstract', 'things']\n",
    "context_vector = make_context_vector(context, word_to_idx)\n",
    "a = model(context_vector).data.numpy()\n",
    "print('Raw text: {}\\n'.format(' '.join(raw_text)))\n",
    "print('Test Context: {}\\n'.format(context))\n",
    "max_idx = np.argmax(a)\n",
    "print('Prediction: {}'.format(idx_to_word[max_idx]))"
   ]
  },
  {
   "cell_type": "code",
   "execution_count": null,
   "id": "6a15ffd4",
   "metadata": {},
   "outputs": [],
   "source": []
  }
 ],
 "metadata": {
  "kernelspec": {
   "display_name": "Python 3 (ipykernel)",
   "language": "python",
   "name": "python3"
  },
  "language_info": {
   "codemirror_mode": {
    "name": "ipython",
    "version": 3
   },
   "file_extension": ".py",
   "mimetype": "text/x-python",
   "name": "python",
   "nbconvert_exporter": "python",
   "pygments_lexer": "ipython3",
   "version": "3.10.8"
  }
 },
 "nbformat": 4,
 "nbformat_minor": 5
}
